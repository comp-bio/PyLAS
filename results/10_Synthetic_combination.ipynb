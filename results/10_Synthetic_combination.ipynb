{
 "cells": [
  {
   "cell_type": "markdown",
   "id": "484b9646",
   "metadata": {},
   "source": [
    "# Объединённая метрика на базе синтетических данных"
   ]
  },
  {
   "cell_type": "code",
   "execution_count": 1,
   "id": "ac34ec30",
   "metadata": {},
   "outputs": [],
   "source": [
    "import matplotlib.pyplot as plt\n",
    "import pandas as pd\n",
    "import numpy as np\n",
    "import json, glob\n",
    "\n",
    "def tprfpr(A, B):\n",
    "    dt = np.array([[v, 1] for v in A] + [[v, 0] for v in B])\n",
    "    dt = dt[dt[:, 0].argsort()]\n",
    "    tpr = np.cumsum(dt[:, 1])/np.sum(dt[:, 1])\n",
    "    fpr = np.cumsum(1 - dt[:, 1])/(len(dt) - np.sum(dt[:, 1]))\n",
    "    return (tpr, fpr, dt)\n",
    "\n",
    "def accuracy(A, B):\n",
    "    tpr, fpr, dt = tprfpr(A, B)\n",
    "    dst = [(x**2 + (1-y)**2) for x,y in np.transpose([fpr, tpr])]\n",
    "    t_ = dt[np.argmin(dst)][0]\n",
    "    acc = 0.5 * (len(A[A < t_])/len(A) + len(B[B >= t_])/len(B))\n",
    "    return (acc, t_)\n",
    "\n",
    "def params(s, index):\n",
    "    return (np.mean([v[index] for v in s]), np.std([v[index] for v in s]))"
   ]
  },
  {
   "cell_type": "code",
   "execution_count": 2,
   "id": "0b8ff6f9",
   "metadata": {},
   "outputs": [],
   "source": [
    "synt = {}\n",
    "for cov in ['15', '30', '75', '300']:\n",
    "    synt[cov] = {'good': [], 'bad': []}\n",
    "    for aber in ['DEL_1.0', 'DUP_2.0']:\n",
    "        with open(f'../../data/generated_m/brownian_{cov}_{aber}.json', 'r') as f:\n",
    "            tmp = json.load(f)\n",
    "            [synt[cov]['good'].append([a[1], a[3]]) for a in tmp if a[0] == 0]\n",
    "            [synt[cov]['bad'].append([a[1], a[3]]) for a in tmp if a[0] == 256]\n",
    "    synt[cov]['good'] = np.array(synt[cov]['good'])\n",
    "    synt[cov]['bad'] = np.array(synt[cov]['bad'])\n",
    "\n",
    "# Normalise (mean + std)\n",
    "fft_n, fft_s = params(synt['300']['good'], 0)\n",
    "dtt_n, dtt_s = params(synt['300']['good'], 1)"
   ]
  },
  {
   "cell_type": "code",
   "execution_count": 3,
   "id": "e1a4f8d3",
   "metadata": {},
   "outputs": [],
   "source": [
    "def transform(obj, dx, dy):\n",
    "    nrm = (obj - [fft_n, dtt_n])/[fft_s, -dtt_s] + [5, 5]\n",
    "    return np.array([((x * dx) + (y * dy)) for x, y in nrm])\n",
    "\n",
    "def target(dx, dy):\n",
    "    acc = 0\n",
    "    for cov in ['15', '30', '75', '300']:\n",
    "        acc_, t_ = accuracy(transform(synt[cov]['good'], dx, dy), transform(synt[cov]['bad'], dx, dy))\n",
    "        acc += acc_\n",
    "    return acc"
   ]
  },
  {
   "cell_type": "code",
   "execution_count": 11,
   "id": "477e4845",
   "metadata": {},
   "outputs": [],
   "source": [
    "def search(x_, y_):\n",
    "    delta, speed, steps = (0.05, 50, 29)\n",
    "    values = []\n",
    "    for step in range(steps):\n",
    "        xl, xr = (target(x_ + delta, y_), target(x_ - delta, y_))\n",
    "        yl, yr = (target(x_, y_ + delta), target(x_, y_ - delta))\n",
    "        dx, dy = (xl - xr, yl - yr)\n",
    "        x_, y_ = (x_ + speed * dx, y_ + speed * dy)\n",
    "        vv = np.mean([xl, xr, yl, yr])\n",
    "        # print(f\"Step: {step}, dx:{dx:.5f}, dy:{dy:.5f}\")\n",
    "        # print(f\"NEW: [{x_:.3f}, {y_:.3f}]; V = {vv:.3f}\")\n",
    "        values.append([x_, y_, vv])\n",
    "    return values"
   ]
  },
  {
   "cell_type": "code",
   "execution_count": 20,
   "id": "e95f3ade",
   "metadata": {},
   "outputs": [],
   "source": [
    "lists = []\n",
    "for i in range(20):\n",
    "    xx, yy = np.random.sample(2) * 10\n",
    "    lists.append(search(xx, yy))"
   ]
  },
  {
   "cell_type": "code",
   "execution_count": 37,
   "id": "05b6f46a",
   "metadata": {},
   "outputs": [
    {
     "data": {
      "image/png": "[encoded data removed]",
      "text/plain": [
       "<Figure size 432x288 with 1 Axes>"
      ]
     },
     "metadata": {
      "needs_background": "light"
     },
     "output_type": "display_data"
    }
   ],
   "source": [
    "for L in lists:\n",
    "    plt.plot([e[2] for e in L], alpha=0.4, color='#000')"
   ]
  },
  {
   "cell_type": "code",
   "execution_count": 31,
   "id": "7c8e12b1",
   "metadata": {},
   "outputs": [
    {
     "data": {
      "text/plain": [
       "[[3.9538671875, 2.727323163428811, 9.341178350781785],\n",
       " [3.9558203125, 2.554863804349099, 7.760783054989938],\n",
       " [3.9601562500000003, 3.5355365208804193, 9.711402899963755],\n",
       " [3.9624609375000004, 2.4913335030040304, 6.0382038936695706],\n",
       " [3.9635937500000002, 2.02443587993663, 4.46781658899397],\n",
       " [3.9635937500000002, 2.220149702897726, 4.921188250611343],\n",
       " [3.9635937500000002, 2.2854213310487292, 5.058320872548691],\n",
       " [3.97171875, 6.881759392629453, 9.310015073229666],\n",
       " [3.972578125, 4.167905288548063, 5.316681907180372],\n",
       " [3.97265625, 1.7624149575098191, 2.1785706948533545],\n",
       " [3.97265625, 4.838573391646412, 6.097425195147773],\n",
       " [3.97359375, 5.99650816942561, 5.467578516427394],\n",
       " [3.97390625, 7.2554403681593875, 6.1088901818575],\n",
       " [3.97390625, 8.04163403110248, 4.69676053279533],\n",
       " [3.9740625, 9.753667567244898, 6.435460561076541],\n",
       " [3.974375, 7.63998911325175, 1.809490705812199],\n",
       " [3.974375, 8.431900002665792, 1.9903177236926883],\n",
       " [3.97453125, 3.7650000310870766, 1.1030704463920715],\n",
       " [3.97453125, 9.290238709607111, 2.638294629603509],\n",
       " [3.9745703125, 3.473061644814993, 0.9505966676489108]]"
      ]
     },
     "execution_count": 31,
     "metadata": {},
     "output_type": "execute_result"
    }
   ],
   "source": [
    "SL = sorted([[L[-1][2], L[-1][0], L[-1][1]] for L in lists])\n",
    "v, xx, yy = SL[-1]\n",
    "SL"
   ]
  },
  {
   "cell_type": "code",
   "execution_count": 38,
   "id": "f834a6f4",
   "metadata": {},
   "outputs": [
    {
     "data": {
      "text/plain": [
       "(3.473061644814993, 0.9505966676489108)"
      ]
     },
     "execution_count": 38,
     "metadata": {},
     "output_type": "execute_result"
    }
   ],
   "source": [
    "xx, yy"
   ]
  },
  {
   "cell_type": "code",
   "execution_count": 40,
   "id": "7e01a86e",
   "metadata": {},
   "outputs": [],
   "source": [
    "real = {'good': [], 'bad': []}\n",
    "for aber in ['DEL_1.0', 'DUP_2.0']:\n",
    "    with open(f'../../data/generated_m/real_good_{aber}.json', 'r') as f:\n",
    "        tmp = json.load(f)\n",
    "        [real['good'].append([a[1], a[3]]) for a in tmp if a[0] == 0]\n",
    "        [real['bad'].append([a[1], a[3]]) for a in tmp if a[0] == 512]\n",
    "real['good'] = np.array(real['good'])\n",
    "real['bad'] = np.array(real['bad'])"
   ]
  },
  {
   "cell_type": "code",
   "execution_count": 50,
   "id": "ebb2d4d1",
   "metadata": {},
   "outputs": [
    {
     "data": {
      "text/plain": [
       "(0.4935064935064935, 9.274924309767579)"
      ]
     },
     "execution_count": 50,
     "metadata": {},
     "output_type": "execute_result"
    }
   ],
   "source": [
    "# DTCWT\n",
    "A, B = (np.array([v[1] for v in real['good']]), np.array([v[1] for v in real['bad']]))\n",
    "accuracy(A, B)"
   ]
  },
  {
   "cell_type": "code",
   "execution_count": 51,
   "id": "819b69c2",
   "metadata": {},
   "outputs": [
    {
     "data": {
      "text/plain": [
       "(0.9935064935064934, 1338.7535860818712)"
      ]
     },
     "execution_count": 51,
     "metadata": {},
     "output_type": "execute_result"
    }
   ],
   "source": [
    "# FFT\n",
    "A, B = (np.array([v[0] for v in real['good']]), np.array([v[0] for v in real['bad']]))\n",
    "accuracy(A, B)"
   ]
  },
  {
   "cell_type": "code",
   "execution_count": 53,
   "id": "d262579e",
   "metadata": {},
   "outputs": [
    {
     "data": {
      "text/plain": [
       "(0.9935064935064934, 33.43645918019578)"
      ]
     },
     "execution_count": 53,
     "metadata": {},
     "output_type": "execute_result"
    }
   ],
   "source": [
    "# Combined\n",
    "A, B = (transform(real['good'], xx, yy), transform(real['bad'], xx, yy))\n",
    "accuracy(A, B)"
   ]
  },
  {
   "cell_type": "markdown",
   "id": "c62b535e",
   "metadata": {},
   "source": [
    "## К"
   ]
  },
  {
   "cell_type": "code",
   "execution_count": null,
   "id": "579e9112",
   "metadata": {},
   "outputs": [],
   "source": [
    "with open(f'../../data/generated_m/brownian_{cov}_{aber}.json', 'r') as f:\n",
    "    tmp = json.load(f)"
   ]
  }
 ],
 "metadata": {
  "kernelspec": {
   "display_name": "Python 3 (ipykernel)",
   "language": "python",
   "name": "python3"
  },
  "language_info": {
   "codemirror_mode": {
    "name": "ipython",
    "version": 3
   },
   "file_extension": ".py",
   "mimetype": "text/x-python",
   "name": "python",
   "nbconvert_exporter": "python",
   "pygments_lexer": "ipython3",
   "version": "3.10.8"
  }
 },
 "nbformat": 4,
 "nbformat_minor": 5
}
